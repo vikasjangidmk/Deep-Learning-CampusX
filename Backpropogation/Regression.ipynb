{
 "cells": [
  {
   "cell_type": "code",
   "execution_count": 1,
   "metadata": {},
   "outputs": [],
   "source": [
    "import numpy as np\n",
    "import pandas as pd"
   ]
  },
  {
   "cell_type": "code",
   "execution_count": 2,
   "metadata": {},
   "outputs": [],
   "source": [
    "df = pd.DataFrame([[8,8,4],[7,9,5],[6,10,6],[5,12,7]], columns=['cgpa', 'profile_score', 'lpa'])"
   ]
  },
  {
   "cell_type": "code",
   "execution_count": 3,
   "metadata": {},
   "outputs": [
    {
     "data": {
      "text/html": [
       "<div>\n",
       "<style scoped>\n",
       "    .dataframe tbody tr th:only-of-type {\n",
       "        vertical-align: middle;\n",
       "    }\n",
       "\n",
       "    .dataframe tbody tr th {\n",
       "        vertical-align: top;\n",
       "    }\n",
       "\n",
       "    .dataframe thead th {\n",
       "        text-align: right;\n",
       "    }\n",
       "</style>\n",
       "<table border=\"1\" class=\"dataframe\">\n",
       "  <thead>\n",
       "    <tr style=\"text-align: right;\">\n",
       "      <th></th>\n",
       "      <th>cgpa</th>\n",
       "      <th>profile_score</th>\n",
       "      <th>lpa</th>\n",
       "    </tr>\n",
       "  </thead>\n",
       "  <tbody>\n",
       "    <tr>\n",
       "      <th>0</th>\n",
       "      <td>8</td>\n",
       "      <td>8</td>\n",
       "      <td>4</td>\n",
       "    </tr>\n",
       "    <tr>\n",
       "      <th>1</th>\n",
       "      <td>7</td>\n",
       "      <td>9</td>\n",
       "      <td>5</td>\n",
       "    </tr>\n",
       "    <tr>\n",
       "      <th>2</th>\n",
       "      <td>6</td>\n",
       "      <td>10</td>\n",
       "      <td>6</td>\n",
       "    </tr>\n",
       "    <tr>\n",
       "      <th>3</th>\n",
       "      <td>5</td>\n",
       "      <td>12</td>\n",
       "      <td>7</td>\n",
       "    </tr>\n",
       "  </tbody>\n",
       "</table>\n",
       "</div>"
      ],
      "text/plain": [
       "   cgpa  profile_score  lpa\n",
       "0     8              8    4\n",
       "1     7              9    5\n",
       "2     6             10    6\n",
       "3     5             12    7"
      ]
     },
     "execution_count": 3,
     "metadata": {},
     "output_type": "execute_result"
    }
   ],
   "source": [
    "df"
   ]
  },
  {
   "cell_type": "code",
   "execution_count": 4,
   "metadata": {},
   "outputs": [],
   "source": [
    "def initialize_parameters(layer_dims):\n",
    "  \n",
    "  np.random.seed(3)\n",
    "  parameters = {}\n",
    "  L = len(layer_dims)         \n",
    "\n",
    "  for l in range(1, L):\n",
    "\n",
    "    parameters['W' + str(l)] = np.ones((layer_dims[l-1], layer_dims[l]))*0.1\n",
    "    parameters['b' + str(l)] = np.zeros((layer_dims[l], 1))\n",
    "      \n",
    "\n",
    "  return parameters"
   ]
  },
  {
   "cell_type": "code",
   "execution_count": 5,
   "metadata": {},
   "outputs": [
    {
     "data": {
      "text/plain": [
       "{'W1': array([[0.1, 0.1],\n",
       "        [0.1, 0.1]]),\n",
       " 'b1': array([[0.],\n",
       "        [0.]]),\n",
       " 'W2': array([[0.1],\n",
       "        [0.1]]),\n",
       " 'b2': array([[0.]])}"
      ]
     },
     "execution_count": 5,
     "metadata": {},
     "output_type": "execute_result"
    }
   ],
   "source": [
    "initialize_parameters([2,2,1])"
   ]
  },
  {
   "cell_type": "code",
   "execution_count": 6,
   "metadata": {},
   "outputs": [],
   "source": [
    "def linear_forward(A_prev, W, b):\n",
    "  \n",
    "  Z = np.dot(W.T, A_prev) + b\n",
    "  \n",
    "  return Z"
   ]
  },
  {
   "cell_type": "code",
   "execution_count": 7,
   "metadata": {},
   "outputs": [],
   "source": [
    "# Forward Prop\n",
    "def L_layer_forward(X, parameters):\n",
    "\n",
    "  A = X\n",
    "  L = len(parameters) // 2                  # number of layers in the neural network\n",
    "  \n",
    "  for l in range(1, L+1):\n",
    "    A_prev = A \n",
    "    Wl = parameters['W' + str(l)]\n",
    "    bl = parameters['b' + str(l)]\n",
    "    print(\"A\"+str(l-1)+\": \", A_prev)\n",
    "    print(\"W\"+str(l)+\": \", Wl)\n",
    "    print(\"b\"+str(l)+\": \", bl)\n",
    "    print(\"--\"*20)\n",
    "\n",
    "    A = linear_forward(A_prev, Wl, bl)\n",
    "    print(\"A\"+str(l)+\": \", A)\n",
    "    print(\"**\"*20)\n",
    "          \n",
    "  return A,A_prev"
   ]
  },
  {
   "cell_type": "code",
   "execution_count": 8,
   "metadata": {},
   "outputs": [
    {
     "name": "stdout",
     "output_type": "stream",
     "text": [
      "A0:  [[8]\n",
      " [8]]\n",
      "W1:  [[0.1 0.1]\n",
      " [0.1 0.1]]\n",
      "b1:  [[0.]\n",
      " [0.]]\n",
      "----------------------------------------\n",
      "A1:  [[1.6]\n",
      " [1.6]]\n",
      "****************************************\n",
      "A1:  [[1.6]\n",
      " [1.6]]\n",
      "W2:  [[0.1]\n",
      " [0.1]]\n",
      "b2:  [[0.]]\n",
      "----------------------------------------\n",
      "A2:  [[0.32]]\n",
      "****************************************\n"
     ]
    }
   ],
   "source": [
    "X = df[['cgpa', 'profile_score']].values[0].reshape(2,1) # Shape(no of features, no. of training example)\n",
    "y = df[['lpa']].values[0][0]\n",
    "\n",
    "# Parameter initialization\n",
    "parameters = initialize_parameters([2,2,1])\n",
    "\n",
    "y_hat,A1 = L_layer_forward(X, parameters)"
   ]
  },
  {
   "cell_type": "code",
   "execution_count": 9,
   "metadata": {},
   "outputs": [],
   "source": [
    "y_hat = y_hat[0][0]"
   ]
  },
  {
   "cell_type": "code",
   "execution_count": 10,
   "metadata": {},
   "outputs": [
    {
     "data": {
      "text/plain": [
       "array([[1.6],\n",
       "       [1.6]])"
      ]
     },
     "execution_count": 10,
     "metadata": {},
     "output_type": "execute_result"
    }
   ],
   "source": [
    "A1"
   ]
  },
  {
   "cell_type": "code",
   "execution_count": 11,
   "metadata": {},
   "outputs": [],
   "source": [
    "def update_parameters(parameters,y,y_hat,A1,X):\n",
    "  parameters['W2'][0][0] = parameters['W2'][0][0] + (0.0001 * (y - y_hat)*A1[0][0])\n",
    "  parameters['W2'][1][0] = parameters['W2'][1][0] + (0.0001 * (y - y_hat)*A1[1][0])\n",
    "  parameters['b2'][0][0] = parameters['W2'][1][0] + (0.0001 * (y - y_hat))\n",
    "\n",
    "  parameters['W1'][0][0] = parameters['W1'][0][0] + (0.0001 * (y - y_hat)*parameters['W2'][0][0]*A1[0][0]*(1-A1[0][0])*X[0][0])\n",
    "  parameters['W1'][0][1] = parameters['W1'][0][1] + (0.0001 * (y - y_hat)*parameters['W2'][0][0]*A1[0][0]*(1-A1[0][0])*X[1][0])\n",
    "  parameters['b1'][0][0] = parameters['b1'][0][0] + (0.0001 * (y - y_hat)*parameters['W2'][0][0]*A1[0][0]*(1-A1[0][0]))\n",
    "\n",
    "  parameters['W1'][1][0] = parameters['W1'][1][0] + (0.0001 * (y - y_hat)*parameters['W2'][1][0]*A1[1][0]*(1-A1[1][0])*X[0][0])\n",
    "  parameters['W1'][1][1] = parameters['W1'][1][1] + (0.0001 * (y - y_hat)*parameters['W2'][1][0]*A1[1][0]*(1-A1[1][0])*X[1][0])\n",
    "  parameters['b1'][1][0] = parameters['b1'][1][0] + (0.0001 * (y - y_hat)*parameters['W2'][1][0]*A1[1][0]*(1-A1[1][0]))"
   ]
  },
  {
   "cell_type": "code",
   "execution_count": 12,
   "metadata": {},
   "outputs": [],
   "source": [
    "update_parameters(parameters,y,y_hat,A1,X)"
   ]
  },
  {
   "cell_type": "code",
   "execution_count": 13,
   "metadata": {},
   "outputs": [
    {
     "data": {
      "text/plain": [
       "{'W1': array([[0.09971571, 0.09971571],\n",
       "        [0.09971571, 0.09971571]]),\n",
       " 'b1': array([[-3.55360113e-05],\n",
       "        [-3.55360113e-05]]),\n",
       " 'W2': array([[0.1005888],\n",
       "        [0.1005888]]),\n",
       " 'b2': array([[0.1009568]])}"
      ]
     },
     "execution_count": 13,
     "metadata": {},
     "output_type": "execute_result"
    }
   ],
   "source": [
    "parameters"
   ]
  },
  {
   "cell_type": "code",
   "execution_count": 14,
   "metadata": {},
   "outputs": [
    {
     "name": "stdout",
     "output_type": "stream",
     "text": [
      "A0:  [[ 5]\n",
      " [12]]\n",
      "W1:  [[0.09971571 0.09971571]\n",
      " [0.09971571 0.09971571]]\n",
      "b1:  [[-3.55360113e-05]\n",
      " [-3.55360113e-05]]\n",
      "----------------------------------------\n",
      "A1:  [[1.69513157]\n",
      " [1.69513157]]\n",
      "****************************************\n",
      "A1:  [[1.69513157]\n",
      " [1.69513157]]\n",
      "W2:  [[0.1005888]\n",
      " [0.1005888]]\n",
      "b2:  [[0.1009568]]\n",
      "----------------------------------------\n",
      "A2:  [[0.4419793]]\n",
      "****************************************\n"
     ]
    }
   ],
   "source": [
    "X = df[['cgpa', 'profile_score']].values[3].reshape(2,1) # Shape(no of features, no. of training example)\n",
    "y = df[['lpa']].values[3][0]\n",
    "\n",
    "y_hat,A1 = L_layer_forward(X, parameters)"
   ]
  },
  {
   "cell_type": "code",
   "execution_count": 15,
   "metadata": {},
   "outputs": [
    {
     "name": "stderr",
     "output_type": "stream",
     "text": [
      "C:\\Users\\vikas\\AppData\\Local\\Temp\\ipykernel_21304\\1104701656.py:2: DeprecationWarning: Conversion of an array with ndim > 0 to a scalar is deprecated, and will error in future. Ensure you extract a single element from your array before performing this operation. (Deprecated NumPy 1.25.)\n",
      "  parameters['W2'][0][0] = parameters['W2'][0][0] + (0.0001 * (y - y_hat)*A1[0][0])\n",
      "C:\\Users\\vikas\\AppData\\Local\\Temp\\ipykernel_21304\\1104701656.py:3: DeprecationWarning: Conversion of an array with ndim > 0 to a scalar is deprecated, and will error in future. Ensure you extract a single element from your array before performing this operation. (Deprecated NumPy 1.25.)\n",
      "  parameters['W2'][1][0] = parameters['W2'][1][0] + (0.0001 * (y - y_hat)*A1[1][0])\n",
      "C:\\Users\\vikas\\AppData\\Local\\Temp\\ipykernel_21304\\1104701656.py:4: DeprecationWarning: Conversion of an array with ndim > 0 to a scalar is deprecated, and will error in future. Ensure you extract a single element from your array before performing this operation. (Deprecated NumPy 1.25.)\n",
      "  parameters['b2'][0][0] = parameters['W2'][1][0] + (0.0001 * (y - y_hat))\n",
      "C:\\Users\\vikas\\AppData\\Local\\Temp\\ipykernel_21304\\1104701656.py:6: DeprecationWarning: Conversion of an array with ndim > 0 to a scalar is deprecated, and will error in future. Ensure you extract a single element from your array before performing this operation. (Deprecated NumPy 1.25.)\n",
      "  parameters['W1'][0][0] = parameters['W1'][0][0] + (0.0001 * (y - y_hat)*parameters['W2'][0][0]*A1[0][0]*(1-A1[0][0])*X[0][0])\n",
      "C:\\Users\\vikas\\AppData\\Local\\Temp\\ipykernel_21304\\1104701656.py:7: DeprecationWarning: Conversion of an array with ndim > 0 to a scalar is deprecated, and will error in future. Ensure you extract a single element from your array before performing this operation. (Deprecated NumPy 1.25.)\n",
      "  parameters['W1'][0][1] = parameters['W1'][0][1] + (0.0001 * (y - y_hat)*parameters['W2'][0][0]*A1[0][0]*(1-A1[0][0])*X[1][0])\n",
      "C:\\Users\\vikas\\AppData\\Local\\Temp\\ipykernel_21304\\1104701656.py:8: DeprecationWarning: Conversion of an array with ndim > 0 to a scalar is deprecated, and will error in future. Ensure you extract a single element from your array before performing this operation. (Deprecated NumPy 1.25.)\n",
      "  parameters['b1'][0][0] = parameters['b1'][0][0] + (0.0001 * (y - y_hat)*parameters['W2'][0][0]*A1[0][0]*(1-A1[0][0]))\n",
      "C:\\Users\\vikas\\AppData\\Local\\Temp\\ipykernel_21304\\1104701656.py:10: DeprecationWarning: Conversion of an array with ndim > 0 to a scalar is deprecated, and will error in future. Ensure you extract a single element from your array before performing this operation. (Deprecated NumPy 1.25.)\n",
      "  parameters['W1'][1][0] = parameters['W1'][1][0] + (0.0001 * (y - y_hat)*parameters['W2'][1][0]*A1[1][0]*(1-A1[1][0])*X[0][0])\n",
      "C:\\Users\\vikas\\AppData\\Local\\Temp\\ipykernel_21304\\1104701656.py:11: DeprecationWarning: Conversion of an array with ndim > 0 to a scalar is deprecated, and will error in future. Ensure you extract a single element from your array before performing this operation. (Deprecated NumPy 1.25.)\n",
      "  parameters['W1'][1][1] = parameters['W1'][1][1] + (0.0001 * (y - y_hat)*parameters['W2'][1][0]*A1[1][0]*(1-A1[1][0])*X[1][0])\n",
      "C:\\Users\\vikas\\AppData\\Local\\Temp\\ipykernel_21304\\1104701656.py:12: DeprecationWarning: Conversion of an array with ndim > 0 to a scalar is deprecated, and will error in future. Ensure you extract a single element from your array before performing this operation. (Deprecated NumPy 1.25.)\n",
      "  parameters['b1'][1][0] = parameters['b1'][1][0] + (0.0001 * (y - y_hat)*parameters['W2'][1][0]*A1[1][0]*(1-A1[1][0]))\n"
     ]
    }
   ],
   "source": [
    "update_parameters(parameters,y,y_hat,A1,X)"
   ]
  },
  {
   "cell_type": "code",
   "execution_count": 16,
   "metadata": {},
   "outputs": [
    {
     "data": {
      "text/plain": [
       "{'W1': array([[0.09932276, 0.09877263],\n",
       "        [0.09932276, 0.09877263]]),\n",
       " 'b1': array([[-0.00011413],\n",
       "        [-0.00011413]]),\n",
       " 'W2': array([[0.10170047],\n",
       "        [0.10170047]]),\n",
       " 'b2': array([[0.10235627]])}"
      ]
     },
     "execution_count": 16,
     "metadata": {},
     "output_type": "execute_result"
    }
   ],
   "source": [
    "parameters"
   ]
  },
  {
   "cell_type": "code",
   "execution_count": 17,
   "metadata": {},
   "outputs": [
    {
     "name": "stdout",
     "output_type": "stream",
     "text": [
      "A0:  [[8]\n",
      " [8]]\n",
      "W1:  [[0.1 0.1]\n",
      " [0.1 0.1]]\n",
      "b1:  [[0.]\n",
      " [0.]]\n",
      "----------------------------------------\n",
      "A1:  [[1.6]\n",
      " [1.6]]\n",
      "****************************************\n",
      "A1:  [[1.6]\n",
      " [1.6]]\n",
      "W2:  [[0.1]\n",
      " [0.1]]\n",
      "b2:  [[0.]]\n",
      "----------------------------------------\n",
      "A2:  [[0.32]]\n",
      "****************************************\n"
     ]
    },
    {
     "data": {
      "text/plain": [
       "{'W1': array([[0.09971571, 0.09971571],\n",
       "        [0.09971571, 0.09971571]]),\n",
       " 'b1': array([[-3.55360113e-05],\n",
       "        [-3.55360113e-05]]),\n",
       " 'W2': array([[0.1005888],\n",
       "        [0.1005888]]),\n",
       " 'b2': array([[0.1009568]])}"
      ]
     },
     "execution_count": 17,
     "metadata": {},
     "output_type": "execute_result"
    }
   ],
   "source": [
    "X = df[['cgpa', 'profile_score']].values[0].reshape(2,1) # Shape(no of features, no. of training example)\n",
    "y = df[['lpa']].values[0][0]\n",
    "\n",
    "# Parameter initialization\n",
    "parameters = initialize_parameters([2,2,1])\n",
    "\n",
    "y_hat,A1 = L_layer_forward(X,parameters)\n",
    "y_hat = y_hat[0][0]\n",
    "\n",
    "update_parameters(parameters,y,y_hat,A1,X)\n",
    "\n",
    "parameters"
   ]
  },
  {
   "cell_type": "code",
   "execution_count": 18,
   "metadata": {},
   "outputs": [
    {
     "name": "stdout",
     "output_type": "stream",
     "text": [
      "A0:  [[7]\n",
      " [9]]\n",
      "W1:  [[0.09971571 0.09971571]\n",
      " [0.09971571 0.09971571]]\n",
      "b1:  [[-3.55360113e-05]\n",
      " [-3.55360113e-05]]\n",
      "----------------------------------------\n",
      "A1:  [[1.59541585]\n",
      " [1.59541585]]\n",
      "****************************************\n",
      "A1:  [[1.59541585]\n",
      " [1.59541585]]\n",
      "W2:  [[0.1005888]\n",
      " [0.1005888]]\n",
      "b2:  [[0.1009568]]\n",
      "----------------------------------------\n",
      "A2:  [[0.42191873]]\n",
      "****************************************\n"
     ]
    },
    {
     "data": {
      "text/plain": [
       "{'W1': array([[0.09940727, 0.09931915],\n",
       "        [0.09940727, 0.09931915]]),\n",
       " 'b1': array([[-7.95985508e-05],\n",
       "        [-7.95985508e-05]]),\n",
       " 'W2': array([[0.10131919],\n",
       "        [0.10131919]]),\n",
       " 'b2': array([[0.101777]])}"
      ]
     },
     "execution_count": 18,
     "metadata": {},
     "output_type": "execute_result"
    }
   ],
   "source": [
    "X = df[['cgpa', 'profile_score']].values[1].reshape(2,1) # Shape(no of features, no. of training exaplme)\n",
    "y = df[['lpa']].values[1][0]\n",
    "\n",
    "y_hat,A1 = L_layer_forward(X,parameters)\n",
    "y_hat = y_hat[0][0]\n",
    "\n",
    "update_parameters(parameters,y,y_hat,A1,X)\n",
    "\n",
    "parameters"
   ]
  },
  {
   "cell_type": "code",
   "execution_count": 19,
   "metadata": {},
   "outputs": [
    {
     "name": "stdout",
     "output_type": "stream",
     "text": [
      "A0:  [[ 6]\n",
      " [10]]\n",
      "W1:  [[0.09940727 0.09931915]\n",
      " [0.09940727 0.09931915]]\n",
      "b1:  [[-7.95985508e-05]\n",
      " [-7.95985508e-05]]\n",
      "----------------------------------------\n",
      "A1:  [[1.59043679]\n",
      " [1.58902679]]\n",
      "****************************************\n",
      "A1:  [[1.59043679]\n",
      " [1.58902679]]\n",
      "W2:  [[0.10131919]\n",
      " [0.10131919]]\n",
      "b2:  [[0.101777]]\n",
      "----------------------------------------\n",
      "A2:  [[0.42391769]]\n",
      "****************************************\n"
     ]
    },
    {
     "data": {
      "text/plain": [
       "{'W1': array([[0.09908617, 0.09878397],\n",
       "        [0.09908722, 0.09878573]]),\n",
       " 'b1': array([[-0.00013312],\n",
       "        [-0.00013294]]),\n",
       " 'W2': array([[0.10220603],\n",
       "        [0.10220525]]),\n",
       " 'b2': array([[0.10276286]])}"
      ]
     },
     "execution_count": 19,
     "metadata": {},
     "output_type": "execute_result"
    }
   ],
   "source": [
    "X = df[['cgpa', 'profile_score']].values[2].reshape(2,1) # Shape(no of features, no. of training exaplme)\n",
    "y = df[['lpa']].values[2][0]\n",
    "\n",
    "y_hat,A1 = L_layer_forward(X,parameters)\n",
    "y_hat = y_hat[0][0]\n",
    "\n",
    "update_parameters(parameters,y,y_hat,A1,X)\n",
    "\n",
    "parameters"
   ]
  },
  {
   "cell_type": "code",
   "execution_count": 20,
   "metadata": {},
   "outputs": [
    {
     "name": "stdout",
     "output_type": "stream",
     "text": [
      "A0:  [[ 5]\n",
      " [12]]\n",
      "W1:  [[0.09908617 0.09878397]\n",
      " [0.09908722 0.09878573]]\n",
      "b1:  [[-0.00013312]\n",
      " [-0.00013294]]\n",
      "----------------------------------------\n",
      "A1:  [[1.6843444 ]\n",
      " [1.67921569]]\n",
      "****************************************\n",
      "A1:  [[1.6843444 ]\n",
      " [1.67921569]]\n",
      "W2:  [[0.10220603]\n",
      " [0.10220525]]\n",
      "b2:  [[0.10276286]]\n",
      "----------------------------------------\n",
      "A2:  [[0.44653768]]\n",
      "****************************************\n"
     ]
    },
    {
     "data": {
      "text/plain": [
       "{'W1': array([[0.09869597, 0.09784749],\n",
       "        [0.09870114, 0.09785913]]),\n",
       " 'b1': array([[-0.00021116],\n",
       "        [-0.00021016]]),\n",
       " 'W2': array([[0.10330986],\n",
       "        [0.10330572]]),\n",
       " 'b2': array([[0.10396106]])}"
      ]
     },
     "execution_count": 20,
     "metadata": {},
     "output_type": "execute_result"
    }
   ],
   "source": [
    "X = df[['cgpa', 'profile_score']].values[3].reshape(2,1) # Shape(no of features, no. of training exaplme)\n",
    "y = df[['lpa']].values[3][0]\n",
    "\n",
    "y_hat,A1 = L_layer_forward(X,parameters)\n",
    "y_hat = y_hat[0][0]\n",
    "\n",
    "update_parameters(parameters,y,y_hat,A1,X)\n",
    "\n",
    "parameters"
   ]
  },
  {
   "cell_type": "code",
   "execution_count": 21,
   "metadata": {},
   "outputs": [
    {
     "name": "stdout",
     "output_type": "stream",
     "text": [
      "A0:  [[8]\n",
      " [8]]\n",
      "W1:  [[0.1 0.1]\n",
      " [0.1 0.1]]\n",
      "b1:  [[0.]\n",
      " [0.]]\n",
      "----------------------------------------\n",
      "A1:  [[1.6]\n",
      " [1.6]]\n",
      "****************************************\n",
      "A1:  [[1.6]\n",
      " [1.6]]\n",
      "W2:  [[0.1]\n",
      " [0.1]]\n",
      "b2:  [[0.]]\n",
      "----------------------------------------\n",
      "A2:  [[0.32]]\n",
      "****************************************\n",
      "A0:  [[7]\n",
      " [9]]\n",
      "W1:  [[0.09971571 0.09971571]\n",
      " [0.09971571 0.09971571]]\n",
      "b1:  [[-3.55360113e-05]\n",
      " [-3.55360113e-05]]\n",
      "----------------------------------------\n",
      "A1:  [[1.59541585]\n",
      " [1.59541585]]\n",
      "****************************************\n",
      "A1:  [[1.59541585]\n",
      " [1.59541585]]\n",
      "W2:  [[0.1005888]\n",
      " [0.1005888]]\n",
      "b2:  [[0.1009568]]\n",
      "----------------------------------------\n",
      "A2:  [[0.42191873]]\n",
      "****************************************\n",
      "A0:  [[ 6]\n",
      " [10]]\n",
      "W1:  [[0.09940727 0.09931915]\n",
      " [0.09940727 0.09931915]]\n",
      "b1:  [[-7.95985508e-05]\n",
      " [-7.95985508e-05]]\n",
      "----------------------------------------\n",
      "A1:  [[1.59043679]\n",
      " [1.58902679]]\n",
      "****************************************\n",
      "A1:  [[1.59043679]\n",
      " [1.58902679]]\n",
      "W2:  [[0.10131919]\n",
      " [0.10131919]]\n",
      "b2:  [[0.101777]]\n",
      "----------------------------------------\n",
      "A2:  [[0.42391769]]\n",
      "****************************************\n",
      "A0:  [[ 5]\n",
      " [12]]\n",
      "W1:  [[0.09908617 0.09878397]\n",
      " [0.09908722 0.09878573]]\n",
      "b1:  [[-0.00013312]\n",
      " [-0.00013294]]\n",
      "----------------------------------------\n",
      "A1:  [[1.6843444 ]\n",
      " [1.67921569]]\n",
      "****************************************\n",
      "A1:  [[1.6843444 ]\n",
      " [1.67921569]]\n",
      "W2:  [[0.10220603]\n",
      " [0.10220525]]\n",
      "b2:  [[0.10276286]]\n",
      "----------------------------------------\n",
      "A2:  [[0.44653768]]\n",
      "****************************************\n",
      "Epoch -  1 Loss -  27.135447608184094\n",
      "A0:  [[8]\n",
      " [8]]\n",
      "W1:  [[0.09869597 0.09784749]\n",
      " [0.09870114 0.09785913]]\n",
      "b1:  [[-0.00021116]\n",
      " [-0.00021016]]\n",
      "----------------------------------------\n",
      "A1:  [[1.57896572]\n",
      " [1.56544285]]\n",
      "****************************************\n",
      "A1:  [[1.57896572]\n",
      " [1.56544285]]\n",
      "W2:  [[0.10330986]\n",
      " [0.10330572]]\n",
      "b2:  [[0.10396106]]\n",
      "----------------------------------------\n",
      "A2:  [[0.42880299]]\n",
      "****************************************\n",
      "A0:  [[7]\n",
      " [9]]\n",
      "W1:  [[0.09842468 0.0975762 ]\n",
      " [0.09843848 0.09759647]]\n",
      "b1:  [[-0.00024507]\n",
      " [-0.00024299]]\n",
      "----------------------------------------\n",
      "A1:  [[1.57467398]\n",
      " [1.56115866]]\n",
      "****************************************\n",
      "A1:  [[1.57467398]\n",
      " [1.56115866]]\n",
      "W2:  [[0.10387374]\n",
      " [0.10386477]]\n",
      "b2:  [[0.10422189]]\n",
      "----------------------------------------\n",
      "A2:  [[0.42993855]]\n",
      "****************************************\n",
      "A0:  [[ 6]\n",
      " [10]]\n",
      "W1:  [[0.09812189 0.0971869 ]\n",
      " [0.09814539 0.09721965]]\n",
      "b1:  [[-0.00028832]\n",
      " [-0.00028486]]\n",
      "----------------------------------------\n",
      "A1:  [[1.56989695]\n",
      " [1.55503304]]\n",
      "****************************************\n",
      "A1:  [[1.56989695]\n",
      " [1.55503304]]\n",
      "W2:  [[0.10459338]\n",
      " [0.10457823]]\n",
      "b2:  [[0.10503523]]\n",
      "----------------------------------------\n",
      "A2:  [[0.43185866]]\n",
      "****************************************\n",
      "A0:  [[ 5]\n",
      " [12]]\n",
      "W1:  [[0.09780665 0.0966615 ]\n",
      " [0.09784134 0.0967129 ]]\n",
      "b1:  [[-0.00034086]\n",
      " [-0.00033553]]\n",
      "----------------------------------------\n",
      "A1:  [[1.66278851]\n",
      " [1.64352675]]\n",
      "****************************************\n",
      "A1:  [[1.66278851]\n",
      " [1.64352675]]\n",
      "W2:  [[0.10546752]\n",
      " [0.10544409]]\n",
      "b2:  [[0.1060009]]\n",
      "----------------------------------------\n",
      "A2:  [[0.45467127]]\n",
      "****************************************\n",
      "Epoch -  2 Loss -  26.871108994105015\n",
      "A0:  [[8]\n",
      " [8]]\n",
      "W1:  [[0.09742233 0.09573913]\n",
      " [0.09747264 0.09582802]]\n",
      "b1:  [[-0.00041773]\n",
      " [-0.00040927]]\n",
      "----------------------------------------\n",
      "A1:  [[1.55874205]\n",
      " [1.53212792]]\n",
      "****************************************\n",
      "A1:  [[1.55874205]\n",
      " [1.53212792]]\n",
      "W2:  [[0.10655587]\n",
      " [0.10651983]]\n",
      "b2:  [[0.10717437]]\n",
      "----------------------------------------\n",
      "A2:  [[0.43646949]]\n",
      "****************************************\n",
      "A0:  [[7]\n",
      " [9]]\n",
      "W1:  [[0.09715638 0.09547319]\n",
      " [0.0972238  0.09557917]]\n",
      "b1:  [[-0.00045097]\n",
      " [-0.00044038]]\n",
      "----------------------------------------\n",
      "A1:  [[1.55465788]\n",
      " [1.52808446]]\n",
      "****************************************\n",
      "A1:  [[1.55465788]\n",
      " [1.52808446]]\n",
      "W2:  [[0.10711133]\n",
      " [0.10706581]]\n",
      "b2:  [[0.10742216]]\n",
      "----------------------------------------\n",
      "A2:  [[0.43754924]]\n",
      "****************************************\n",
      "A0:  [[ 6]\n",
      " [10]]\n",
      "W1:  [[0.09685945 0.09509142]\n",
      " [0.09694607 0.09522209]]\n",
      "b1:  [[-0.00049339]\n",
      " [-0.00048006]]\n",
      "----------------------------------------\n",
      "A1:  [[1.55012402]\n",
      " [1.52228938]]\n",
      "****************************************\n",
      "A1:  [[1.55012402]\n",
      " [1.52228938]]\n",
      "W2:  [[0.10782064]\n",
      " [0.10776299]]\n",
      "b2:  [[0.10821924]]\n",
      "----------------------------------------\n",
      "A2:  [[0.43940105]]\n",
      "****************************************\n",
      "A0:  [[ 5]\n",
      " [12]]\n",
      "W1:  [[0.09655024 0.09457606]\n",
      " [0.09665797 0.09474192]]\n",
      "b1:  [[-0.00054492]\n",
      " [-0.00052807]]\n",
      "----------------------------------------\n",
      "A1:  [[1.64210185]\n",
      " [1.60925526]]\n",
      "****************************************\n",
      "A1:  [[1.64210185]\n",
      " [1.60925526]]\n",
      "W2:  [[0.1086826 ]\n",
      " [0.10860948]]\n",
      "b2:  [[0.10916554]]\n",
      "----------------------------------------\n",
      "A2:  [[0.4624138]]\n",
      "****************************************\n",
      "Epoch -  3 Loss -  26.79375012371255\n",
      "A0:  [[8]\n",
      " [8]]\n",
      "W1:  [[0.09617195 0.09366817]\n",
      " [0.09630651 0.09389843]]\n",
      "b1:  [[-0.00062058]\n",
      " [-0.00059836]]\n",
      "----------------------------------------\n",
      "A1:  [[1.53920714]\n",
      " [1.49993451]]\n",
      "****************************************\n",
      "A1:  [[1.53920714]\n",
      " [1.49993451]]\n",
      "W2:  [[0.10975614]\n",
      " [0.10966154]]\n",
      "b2:  [[0.1103153]]\n",
      "----------------------------------------\n",
      "A2:  [[0.44373786]]\n",
      "****************************************\n",
      "A0:  [[7]\n",
      " [9]]\n",
      "W1:  [[0.0959115  0.09340772]\n",
      " [0.09607143 0.09366335]]\n",
      "b1:  [[-0.00065314]\n",
      " [-0.00062775]]\n",
      "----------------------------------------\n",
      "A1:  [[1.53537019]\n",
      " [1.49619643]]\n",
      "****************************************\n",
      "A1:  [[1.53537019]\n",
      " [1.49619643]]\n",
      "W2:  [[0.11030352]\n",
      " [0.11019496]]\n",
      "b2:  [[0.11055058]]\n",
      "----------------------------------------\n",
      "A2:  [[0.44478062]]\n",
      "****************************************\n",
      "A0:  [[ 6]\n",
      " [10]]\n",
      "W1:  [[0.09562056 0.09303365]\n",
      " [0.09580895 0.09332588]]\n",
      "b1:  [[-0.0006947 ]\n",
      " [-0.00066525]]\n",
      "----------------------------------------\n",
      "A1:  [[1.53111814]\n",
      " [1.49079545]]\n",
      "****************************************\n",
      "A1:  [[1.53111814]\n",
      " [1.49079545]]\n",
      "W2:  [[0.11100291]\n",
      " [0.11087651]]\n",
      "b2:  [[0.11133203]]\n",
      "----------------------------------------\n",
      "A2:  [[0.4465848]]\n",
      "****************************************\n",
      "A0:  [[ 5]\n",
      " [12]]\n",
      "W1:  [[0.09531747 0.09252852]\n",
      " [0.09553662 0.09287199]]\n",
      "b1:  [[-0.00074522]\n",
      " [-0.00071063]]\n",
      "----------------------------------------\n",
      "A1:  [[1.62228156]\n",
      " [1.57639582]]\n",
      "****************************************\n",
      "A1:  [[1.62228156]\n",
      " [1.57639582]]\n",
      "W2:  [[0.11185321]\n",
      " [0.11170441]]\n",
      "b2:  [[0.11225975]]\n",
      "----------------------------------------\n",
      "A2:  [[0.46980751]]\n",
      "****************************************\n",
      "Epoch -  4 Loss -  26.720214606104484\n",
      "A0:  [[8]\n",
      " [8]]\n",
      "W1:  [[0.0949453  0.09163529]\n",
      " [0.09520216 0.0920693 ]]\n",
      "b1:  [[-0.00081965]\n",
      " [-0.00077752]]\n",
      "----------------------------------------\n",
      "A1:  [[1.52036002]\n",
      " [1.46885918]]\n",
      "****************************************\n",
      "A1:  [[1.52036002]\n",
      " [1.46885918]]\n",
      "W2:  [[0.11291259]\n",
      " [0.11273382]]\n",
      "b2:  [[0.11338684]]\n",
      "----------------------------------------\n",
      "A2:  [[0.45064474]]\n",
      "****************************************\n",
      "A0:  [[7]\n",
      " [9]]\n",
      "W1:  [[0.09469043 0.09138043]\n",
      " [0.09498069 0.09184783]]\n",
      "b1:  [[-0.00085151]\n",
      " [-0.00080521]]\n",
      "----------------------------------------\n",
      "A1:  [[1.51680775]\n",
      " [1.46548823]]\n",
      "****************************************\n",
      "A1:  [[1.51680775]\n",
      " [1.46548823]]\n",
      "W2:  [[0.11345222]\n",
      " [0.11325517]]\n",
      "b2:  [[0.11361011]]\n",
      "----------------------------------------\n",
      "A2:  [[0.45166944]]\n",
      "****************************************\n",
      "A0:  [[ 6]\n",
      " [10]]\n",
      "W1:  [[0.09440556 0.09101416]\n",
      " [0.09473326 0.09152971]]\n",
      "b1:  [[-0.00089221]\n",
      " [-0.00084056]]\n",
      "----------------------------------------\n",
      "A1:  [[1.51287378]\n",
      " [1.46054146]]\n",
      "****************************************\n",
      "A1:  [[1.51287378]\n",
      " [1.46054146]]\n",
      "W2:  [[0.11414211]\n",
      " [0.11392173]]\n",
      "b2:  [[0.11437656]]\n",
      "----------------------------------------\n",
      "A2:  [[0.45344658]]\n",
      "****************************************\n",
      "A0:  [[ 5]\n",
      " [12]]\n",
      "W1:  [[0.09410866 0.09051932]\n",
      " [0.09447644 0.09110166]]\n",
      "b1:  [[-0.00094169]\n",
      " [-0.00088336]]\n",
      "----------------------------------------\n",
      "A1:  [[1.60331883]\n",
      " [1.54493317]]\n",
      "****************************************\n",
      "A1:  [[1.60331883]\n",
      " [1.54493317]]\n",
      "W2:  [[0.11498124]\n",
      " [0.11473182]]\n",
      "b2:  [[0.11528648]]\n",
      "----------------------------------------\n",
      "A2:  [[0.47689106]]\n",
      "****************************************\n",
      "Epoch -  5 Loss -  26.650109678922796\n"
     ]
    },
    {
     "data": {
      "text/plain": [
       "{'W1': array([[0.0937426 , 0.08964078],\n",
       "        [0.09415863, 0.09033893]]),\n",
       " 'b1': array([[-0.0010149 ],\n",
       "        [-0.00094692]]),\n",
       " 'W2': array([[0.1160271],\n",
       "        [0.1157396]]),\n",
       " 'b2': array([[0.11639191]])}"
      ]
     },
     "execution_count": 21,
     "metadata": {},
     "output_type": "execute_result"
    }
   ],
   "source": [
    "# epochs implementation\n",
    "\n",
    "parameters = initialize_parameters([2,2,1])\n",
    "epochs = 5\n",
    "\n",
    "for i in range(epochs):\n",
    "\n",
    "  Loss = []\n",
    "\n",
    "  for j in range(df.shape[0]):\n",
    "\n",
    "    X = df[['cgpa', 'profile_score']].values[j].reshape(2,1) # Shape(no of features, no. of training example)\n",
    "    y = df[['lpa']].values[j][0]\n",
    "\n",
    "    # Parameter initialization\n",
    "\n",
    "\n",
    "    y_hat,A1 = L_layer_forward(X,parameters)\n",
    "    y_hat = y_hat[0][0]\n",
    "\n",
    "    update_parameters(parameters,y,y_hat,A1,X)\n",
    "\n",
    "    Loss.append((y-y_hat)**2)\n",
    "\n",
    "  print('Epoch - ',i+1,'Loss - ',np.array(Loss).mean())\n",
    "\n",
    "parameters"
   ]
  },
  {
   "cell_type": "code",
   "execution_count": 22,
   "metadata": {},
   "outputs": [
    {
     "name": "stdout",
     "output_type": "stream",
     "text": [
      "The End\n"
     ]
    }
   ],
   "source": [
    "print(\"The End\")"
   ]
  }
 ],
 "metadata": {
  "kernelspec": {
   "display_name": "Python 3",
   "language": "python",
   "name": "python3"
  },
  "language_info": {
   "codemirror_mode": {
    "name": "ipython",
    "version": 3
   },
   "file_extension": ".py",
   "mimetype": "text/x-python",
   "name": "python",
   "nbconvert_exporter": "python",
   "pygments_lexer": "ipython3",
   "version": "3.11.0"
  }
 },
 "nbformat": 4,
 "nbformat_minor": 2
}
