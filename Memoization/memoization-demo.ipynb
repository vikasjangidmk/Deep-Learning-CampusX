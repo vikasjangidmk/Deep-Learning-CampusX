{
 "cells": [
  {
   "cell_type": "markdown",
   "metadata": {},
   "source": [
    "**MLP Memoization**\n",
    "\n",
    "MLP Memoization, also known as Model-Based Reinforcement Learning with Experience Replay, combines the strengths of Model-Based and Model-Free Reinforcement Learning. It involves learning a world model that predicts the next state and reward given a current state and action.\n",
    "\n",
    "**Key Components:**\n",
    "\n",
    "* **World Model:**\n",
    "  - A neural network trained to predict the next state and reward from the current state and action.\n",
    "  - Uses supervised learning on a dataset of (state, action, next state, reward) tuples.\n",
    "* **Planning:**\n",
    "  - Simulates future trajectories using the world model to select optimal actions.\n",
    "  - Employs techniques like Monte Carlo Tree Search (MCTS) or dynamic programming.\n",
    "* **Experience Replay:**\n",
    "  - Stores experiences in a replay buffer.\n",
    "  - Samples from the buffer to train both the world model and the policy network.\n",
    "\n",
    "**Benefits:**\n",
    "\n",
    "* **Efficient Learning:** Simulates experiences without real-world interaction.\n",
    "* **Improved Exploration:** Explores novel states and actions.\n",
    "* **Better Decision Making:** Considers long-term consequences.\n",
    "\n",
    "**Challenges:**\n",
    "\n",
    "* **Model Accuracy:** Inaccurate predictions can lead to suboptimal decisions.\n",
    "* **Computational Cost:** Training and using a world model can be expensive.\n"
   ]
  },
  {
   "cell_type": "code",
   "execution_count": 2,
   "metadata": {},
   "outputs": [],
   "source": [
    "# Fibonacci Series\n",
    "\n",
    "def fib(n):\n",
    "    if n <= 1:\n",
    "        return n\n",
    "    else:\n",
    "        return fib(n-1) + fib(n-2)"
   ]
  },
  {
   "cell_type": "code",
   "execution_count": 8,
   "metadata": {},
   "outputs": [
    {
     "data": {
      "text/plain": [
       "1"
      ]
     },
     "execution_count": 8,
     "metadata": {},
     "output_type": "execute_result"
    }
   ],
   "source": [
    "fib(2)"
   ]
  },
  {
   "cell_type": "code",
   "execution_count": 9,
   "metadata": {},
   "outputs": [
    {
     "data": {
      "text/plain": [
       "21"
      ]
     },
     "execution_count": 9,
     "metadata": {},
     "output_type": "execute_result"
    }
   ],
   "source": [
    "fib(8)"
   ]
  },
  {
   "cell_type": "code",
   "execution_count": 10,
   "metadata": {},
   "outputs": [
    {
     "data": {
      "text/plain": [
       "55"
      ]
     },
     "execution_count": 10,
     "metadata": {},
     "output_type": "execute_result"
    }
   ],
   "source": [
    "fib(10)"
   ]
  },
  {
   "cell_type": "code",
   "execution_count": 11,
   "metadata": {},
   "outputs": [
    {
     "data": {
      "text/plain": [
       "832040"
      ]
     },
     "execution_count": 11,
     "metadata": {},
     "output_type": "execute_result"
    }
   ],
   "source": [
    "# It takes some time in running\n",
    "fib(30)"
   ]
  },
  {
   "cell_type": "code",
   "execution_count": 12,
   "metadata": {},
   "outputs": [],
   "source": [
    "# It takes too much time in running\n",
    "#fib(50)"
   ]
  },
  {
   "cell_type": "code",
   "execution_count": 3,
   "metadata": {},
   "outputs": [
    {
     "name": "stdout",
     "output_type": "stream",
     "text": [
      "time taken is  6.4197046756744385\n"
     ]
    }
   ],
   "source": [
    "import time\n",
    "start = time.time()\n",
    "fib(38)\n",
    "print(\"time taken is \", time.time() - start)"
   ]
  },
  {
   "cell_type": "markdown",
   "metadata": {},
   "source": [
    "# Using Memoization"
   ]
  },
  {
   "cell_type": "code",
   "execution_count": 5,
   "metadata": {},
   "outputs": [],
   "source": [
    "# Fibonacci Series\n",
    "\n",
    "def fib(n,d):\n",
    "    if n in d:\n",
    "        return d[n]\n",
    "    else:\n",
    "        d[n] =  fib(n-1,d) + fib(n-2,d)\n",
    "        return d[n]"
   ]
  },
  {
   "cell_type": "code",
   "execution_count": 7,
   "metadata": {},
   "outputs": [
    {
     "name": "stdout",
     "output_type": "stream",
     "text": [
      "time taken is  0.0\n"
     ]
    }
   ],
   "source": [
    "import time\n",
    "start = time.time()\n",
    "d = {0:1,1:1}\n",
    "fib(50,d)\n",
    "print(\"time taken is \", time.time() - start)"
   ]
  },
  {
   "cell_type": "code",
   "execution_count": 8,
   "metadata": {},
   "outputs": [
    {
     "data": {
      "text/plain": [
       "20365011074"
      ]
     },
     "execution_count": 8,
     "metadata": {},
     "output_type": "execute_result"
    }
   ],
   "source": [
    "d = {0:1,1:1}\n",
    "fib(50,d)"
   ]
  },
  {
   "cell_type": "code",
   "execution_count": 9,
   "metadata": {},
   "outputs": [
    {
     "name": "stdout",
     "output_type": "stream",
     "text": [
      "The End\n"
     ]
    }
   ],
   "source": [
    "print(\"The End\")"
   ]
  }
 ],
 "metadata": {
  "kernelspec": {
   "display_name": "Python 3",
   "language": "python",
   "name": "python3"
  },
  "language_info": {
   "codemirror_mode": {
    "name": "ipython",
    "version": 3
   },
   "file_extension": ".py",
   "mimetype": "text/x-python",
   "name": "python",
   "nbconvert_exporter": "python",
   "pygments_lexer": "ipython3",
   "version": "3.11.0"
  }
 },
 "nbformat": 4,
 "nbformat_minor": 2
}
